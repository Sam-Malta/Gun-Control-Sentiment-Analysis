{
 "cells": [
  {
   "cell_type": "code",
   "execution_count": null,
   "metadata": {},
   "outputs": [],
   "source": [
    "# %pip install pandas\n",
    "# %pip install facebook_scraper\n",
    "# %pip install tqdm"
   ]
  },
  {
   "cell_type": "code",
   "execution_count": null,
   "metadata": {},
   "outputs": [],
   "source": [
    "from facebook_scraper import get_posts\n",
    "import pandas as pd\n",
    "from tqdm import tqdm"
   ]
  },
  {
   "cell_type": "code",
   "execution_count": null,
   "metadata": {},
   "outputs": [],
   "source": [
    "sent = \"neutral\""
   ]
  },
  {
   "cell_type": "code",
   "execution_count": null,
   "metadata": {},
   "outputs": [],
   "source": [
    "\n",
    "login = ['defow62637@mliok.com']\n",
    "password = \"PasswordLogin\"\n",
    "\n",
    "# create dataframe to store posts\n",
    "data_frame = pd.DataFrame()\n",
    "\n",
    "# Get posts from Moms Demand Action -- Clearly this is a gun control group\n",
    "\n",
    "if sent == 'pro':\n",
    "    pro_gun_control_posts = get_posts(\n",
    "                account = 'guncontrolnow.campaign',\n",
    "                pages=1000,\n",
    "                page_limit = None,\n",
    "                credentials=(login[0], password),\n",
    "                #cookies='cookies.json',\n",
    "                options={\"progress\": True, \"posts_per_page\": 200, \"allow_extra_requests\": False})\n",
    "elif sent == 'against':\n",
    "    anti_gun_control_posts = get_posts(\n",
    "                account = 'GunOwners',\n",
    "                pages=1000,\n",
    "                page_limit = None,\n",
    "                credentials=(login[0], password),\n",
    "                #cookies='cookies.json',\n",
    "                options={\"progress\": True, \"posts_per_page\": 200, \"allow_extra_requests\": False})\n",
    "else:\n",
    "    neutral_gun_control_posts = get_posts(\n",
    "                post_urls = ['pfbid0ADZPihZN3bKp2yPZnbQHvkBkF6zWuWFq1CEvuoY25Nnw8QeLbHaiHSU5WSCcCuTCl'],\n",
    "                credentials=(login[0], password),\n",
    "                #cookies='cookies.json',\n",
    "                options={\"progress\": True, \"posts_per_page\": 2000, \"allow_extra_requests\": True, 'comments': 1000})\n",
    "\n",
    "posts = []\n",
    "comments = []\n",
    "dict = {}\n",
    "\n",
    "def get_facebook_posts(sentiment):\n",
    "    if sentiment == 'pro':\n",
    "        for index, post in enumerate(pro_gun_control_posts):\n",
    "            if index % 100 == 0:\n",
    "                print(f'Post Number {index}')\n",
    "                print(post['text'][:250])\n",
    "            posts.append(post)\n",
    "\n",
    "    elif sentiment == 'neutral':\n",
    "        for index, post in enumerate(neutral_gun_control_posts):\n",
    "            if index % 100 == 0:\n",
    "                print(f'Post Number {index}')\n",
    "                print(post['text'][:250])\n",
    "                print(post['post_id'])\n",
    "\n",
    "            for i, comment in enumerate(post['comments_full']):\n",
    "                comments.append(comment)\n",
    "            posts.append(post)\n",
    "            \n",
    "    else:\n",
    "        for index, post in enumerate(anti_gun_control_posts):\n",
    "            if index % 100 == 0:\n",
    "                print(f'Post Number {index}')\n",
    "                print(post['text'][:250])\n",
    "            posts.append(post)\n",
    "           \n",
    "\n",
    "\n",
    "\n",
    "\n"
   ]
  },
  {
   "cell_type": "code",
   "execution_count": null,
   "metadata": {},
   "outputs": [],
   "source": [
    "def save_posts_list(df, sentiment):\n",
    "    if sentiment != 'neutral':\n",
    "        df.to_csv(f'data/{sentiment}1-posts.csv')"
   ]
  },
  {
   "attachments": {},
   "cell_type": "markdown",
   "metadata": {},
   "source": [
    "# If the data has already been scraped and collected -- Load the Data"
   ]
  },
  {
   "cell_type": "code",
   "execution_count": null,
   "metadata": {},
   "outputs": [],
   "source": [
    "get_facebook_posts(sent) # get pro gun control posts \n"
   ]
  },
  {
   "cell_type": "code",
   "execution_count": null,
   "metadata": {},
   "outputs": [],
   "source": [
    "data_frame = pd.DataFrame(posts)\n",
    "data_frame = data_frame[['post_id', 'time', 'text', 'reaction_count']]\n",
    "if sent == 'pro':\n",
    "    data_frame['label'] = 1\n",
    "elif sent == 'neutral':\n",
    "    data_frame['label'] = -1\n",
    "else:\n",
    "    data_frame['label'] = 0\n"
   ]
  },
  {
   "cell_type": "code",
   "execution_count": null,
   "metadata": {},
   "outputs": [],
   "source": [
    "import re\n",
    "def text_preprocessing(text):\n",
    "    # Remove entity mentions starting with '@user'\n",
    "    text = re.sub(r'@\\w+', '', text)\n",
    "    \n",
    "    # Remove URLs\n",
    "    text = re.sub(r'(http|https)://[^\\s]+', '', text)\n",
    "    \n",
    "    emojis_pattern = re.compile(\"[\\U0001F600-\\U0001F64F]|[\\U0001F300-\\U0001F5FF]|[\\U0001F680-\\U0001F6FF]|[\\U0001F1E0-\\U0001F1FF]|[\\U00002600-\\U000027BF]|[\\U0001F900-\\U0001F9FF]|[\\U0001F170-\\U0001F251]|[\\U0001F300-\\U0001F5FF]|[\\U00002702-\\U000027B0]|[\\U0001F600-\\U0001F636]|[\\U000024C2-\\U0001F251]|[\\U0001F30D-\\U0001F567]\", flags=re.UNICODE)\n",
    "    text = emojis_pattern.sub('', text)\n",
    "    \n",
    "    # Correct common errors\n",
    "    text = text.replace('&amp;', '&')\n",
    "    \n",
    "    # Remove excess whitespace characters\n",
    "    text = re.sub(r'\\s+', ' ', text).strip()\n",
    "\n",
    "    # Remove Paragraph Spacing\n",
    "    text = text.replace('\\n', ' ')\n",
    "    \n",
    "    return text"
   ]
  },
  {
   "attachments": {},
   "cell_type": "markdown",
   "metadata": {},
   "source": [
    "# Output to CSV file after preprocessing "
   ]
  },
  {
   "cell_type": "code",
   "execution_count": null,
   "metadata": {},
   "outputs": [],
   "source": [
    "# Preprocess text\n",
    "\n",
    "data_frame['text'] = data_frame['text'].apply(lambda x: text_preprocessing(x))\n",
    "\n",
    "# Remove empty posts\n",
    "data_frame = data_frame[data_frame['text'] != '']\n",
    "\n",
    "# Remove duplicate posts\n",
    "data_frame = data_frame.drop_duplicates(subset='text')\n",
    "\n",
    "# Remove posts with less than 10 characters\n",
    "data_frame = data_frame[data_frame['text'].str.len() >= 10]\n",
    "\n",
    "# Save posts\n",
    "save_posts_list(data_frame, sent)\n"
   ]
  },
  {
   "cell_type": "markdown",
   "metadata": {},
   "source": [
    "# Working with Comments "
   ]
  },
  {
   "cell_type": "code",
   "execution_count": null,
   "metadata": {},
   "outputs": [],
   "source": [
    "if len(comments) != 0:\n",
    "    comment_dataframe = pd.DataFrame.from_dict(comments)\n",
    "    comment_dataframe = comment_dataframe[['comment_id', 'comment_text', 'comment_time']]\n",
    "    comment_dataframe.set_index('comment_time', inplace=True)\n",
    "    comment_dataframe.to_csv('comment/comments.csv')\n",
    "\n",
    "\n",
    "\n",
    "    \n"
   ]
  },
  {
   "cell_type": "code",
   "execution_count": null,
   "metadata": {},
   "outputs": [],
   "source": []
  }
 ],
 "metadata": {
  "kernelspec": {
   "display_name": "facebook-scraper",
   "language": "python",
   "name": "python3"
  },
  "language_info": {
   "codemirror_mode": {
    "name": "ipython",
    "version": 3
   },
   "file_extension": ".py",
   "mimetype": "text/x-python",
   "name": "python",
   "nbconvert_exporter": "python",
   "pygments_lexer": "ipython3",
   "version": "3.9.17"
  },
  "orig_nbformat": 4,
  "vscode": {
   "interpreter": {
    "hash": "4d814e548a47325464e0881685482a82a9f7ebc33e0749d2240cc066ce05521f"
   }
  }
 },
 "nbformat": 4,
 "nbformat_minor": 2
}
